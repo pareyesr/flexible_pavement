{
 "cells": [
  {
   "cell_type": "markdown",
   "id": "adf8d1a5",
   "metadata": {},
   "source": [
    "<h2><center>Análisis de Sistemas de Infraestructura <br>\n",
    "    Examen final: Parte II <br>\n",
    "    Punto 1 <br>\n",
    "    nombre: Pablo Andrés Reyes Rueda<br>Código: 201816456</center></h2>"
   ]
  },
  {
   "cell_type": "code",
   "execution_count": 1,
   "id": "218aad9b",
   "metadata": {},
   "outputs": [],
   "source": [
    "import pandas as pd #Libreria para manejo de datos y estadistica\n",
    "import matplotlib.pyplot as plt # importar librería de matplotlib\n",
    "import numpy as np\n",
    "import math\n",
    "import sympy as sym\n",
    "from sympy import integrate\n",
    "import scipy as sp\n",
    "import scipy.stats as ss\n",
    "from scipy.stats import gamma\n",
    "import decimal\n",
    "import seaborn as sns\n",
    "decimal.getcontext().prec = 5"
   ]
  },
  {
   "cell_type": "markdown",
   "id": "0f3c3ab9",
   "metadata": {},
   "source": [
    "La variable Y sigue una distribución lognormal con media 10 y cov 0.3, como no se menciona otra variable la covarianza es la misma varianza por lo que la desviación estandar es la raíz cuadrada de la varianza que sería:  $\\sqrt{log(1+0,3^2)}$"
   ]
  },
  {
   "cell_type": "code",
   "execution_count": 2,
   "id": "5d6e23fa",
   "metadata": {},
   "outputs": [
    {
     "data": {
      "text/plain": [
       "80.68055536834288"
      ]
     },
     "execution_count": 2,
     "metadata": {},
     "output_type": "execute_result"
    }
   ],
   "source": [
    "#Creación de 1000 simulaciones con un estado inicial de 100 hasta un estado crítico de 25 o menos\n",
    "lambd=0.1\n",
    "res= np.zeros(1000)\n",
    "for n in range(1000):\n",
    "    i = 0\n",
    "    v0=100\n",
    "    t_x=0\n",
    "    while v0>25:\n",
    "        t_x+=np.random.exponential(1/lambd)\n",
    "        d_y=np.random.lognormal(np.log(10)-0.5*np.log(1+0.3**2),(np.log(1+0.3**2))**(1/2))\n",
    "        v0-=d_y\n",
    "    res[n]=t_x\n",
    "TMF=res.mean()\n",
    "res.mean()"
   ]
  },
  {
   "cell_type": "markdown",
   "id": "94de7d5e",
   "metadata": {},
   "source": [
    "El tiempo medio a la falla para las 1000 simulaciones realizadas es el siguiente:"
   ]
  },
  {
   "cell_type": "code",
   "execution_count": 3,
   "id": "61f861f3",
   "metadata": {},
   "outputs": [
    {
     "name": "stdout",
     "output_type": "stream",
     "text": [
      "El TMF es 80.6806\n",
      "La desviación estandar es 30.5524\n",
      "La caja de bigotes para los datos es la siguiente: \n"
     ]
    },
    {
     "data": {
      "image/png": "[encoded data removed]",
      "text/plain": [
       "<Figure size 432x288 with 1 Axes>"
      ]
     },
     "metadata": {
      "needs_background": "light"
     },
     "output_type": "display_data"
    }
   ],
   "source": [
    "print(\"El TMF es\",round(res.mean(),4))\n",
    "print(\"La desviación estandar es\",round(res.std(),4))\n",
    "plt.boxplot(res)\n",
    "print(\"La caja de bigotes para los datos es la siguiente: \")\n",
    "plt.show()\n"
   ]
  },
  {
   "cell_type": "markdown",
   "id": "5b9de9a8",
   "metadata": {},
   "source": [
    "Para el caso de la primera estimación:"
   ]
  },
  {
   "cell_type": "markdown",
   "id": "f2fa74f7",
   "metadata": {},
   "source": [
    "$I$ Intervención programada que lleva el sistema hasta as good as new (estado al tiempo\n",
    "t = 0) y que ocurre en el tiempo $t_{mi} = 0,5 M_f$"
   ]
  },
  {
   "cell_type": "code",
   "execution_count": 4,
   "id": "074296b1",
   "metadata": {},
   "outputs": [
    {
     "data": {
      "text/plain": [
       "90.06541313315797"
      ]
     },
     "execution_count": 4,
     "metadata": {},
     "output_type": "execute_result"
    }
   ],
   "source": [
    "lambd=0.1\n",
    "res_1= np.zeros(1000)\n",
    "cos_1= np.zeros(1000)\n",
    "for n in range(1000):\n",
    "    v0=100\n",
    "    t_x=0\n",
    "    arreglado = False\n",
    "    while v0>25:\n",
    "        #Sumo el tiempo con una distribución con lambda 0.1 que es igual a 10 debido a que el valor es  1/0.1=10\n",
    "        t_x+=np.random.exponential(10)\n",
    "        d_y=np.random.lognormal(np.log(10)-0.5*np.log(1+0.3**2),(np.log(1+0.3**2))**(1/2))\n",
    "        v0-=d_y\n",
    "        #verifico si se llego al tiempo de la mitad o menor del valor esperado si es así verifico si ya fue arreglado y lo arreglo una vez\n",
    "        if t_x <= 0.5*TMF and not arreglado:\n",
    "            cos_1[n] = 100-v0\n",
    "            v0 = 100\n",
    "            arreglado = True\n",
    "        \n",
    "    res_1[n]=t_x\n",
    "\n",
    "TMF_1=res_1.mean()\n",
    "CMF_1=cos_1.mean()\n",
    "TMF_1"
   ]
  },
  {
   "cell_type": "code",
   "execution_count": 5,
   "id": "33d4f03e",
   "metadata": {},
   "outputs": [
    {
     "data": {
      "text/plain": [
       "90.59107339257395"
      ]
     },
     "execution_count": 5,
     "metadata": {},
     "output_type": "execute_result"
    }
   ],
   "source": [
    "lambd=0.1\n",
    "res_2= np.zeros(1000)\n",
    "cos_2= np.zeros(1000)\n",
    "for n in range(1000):\n",
    "    v0=100\n",
    "    t_x=0\n",
    "    arreglado = False\n",
    "    while v0>25:\n",
    "        #Sumo el tiempo con una distribución con lambda 0.1 que es igual a 10 debido a que el valor es  1/0.1=10\n",
    "        t_x+=np.random.exponential(1/lambd)\n",
    "        d_y=np.random.lognormal(np.log(10)-0.5*np.log(1+0.3**2),(np.log(1+0.3**2))**(1/2))\n",
    "        v0-=d_y\n",
    "        #verifico si se llego al tiempo de la mitad o menor del valor esperado si es así verifico si ya fue arreglado y lo arreglo una vez\n",
    "        if t_x <= 0.75*TMF and not arreglado:\n",
    "            cos_2[n] = 100-v0\n",
    "            v0 = 100\n",
    "            arreglado = True\n",
    "        \n",
    "    res_2[n]=t_x\n",
    "\n",
    "TMF_2=res_2.mean()\n",
    "CMF_2=cos_2.mean()\n",
    "TMF_2"
   ]
  },
  {
   "cell_type": "code",
   "execution_count": 6,
   "id": "465136a4",
   "metadata": {},
   "outputs": [
    {
     "data": {
      "text/plain": [
       "88.75114341537372"
      ]
     },
     "execution_count": 6,
     "metadata": {},
     "output_type": "execute_result"
    }
   ],
   "source": [
    "lambd=0.1\n",
    "res_3= np.zeros(1000)\n",
    "cos_3= np.zeros(1000)\n",
    "for n in range(1000):\n",
    "    v0=100\n",
    "    t_x=0\n",
    "    arreglado = False\n",
    "    while v0>25:\n",
    "        #Sumo el tiempo con una distribución con lambda 0.1 que es igual a 10 debido a que el valor es  1/0.1=10\n",
    "        t_x+=np.random.exponential(1/lambd)\n",
    "        d_y=np.random.lognormal(np.log(10)-0.5*np.log(1+0.3**2),(np.log(1+0.3**2))**(1/2))\n",
    "        v0-=d_y\n",
    "        #verifico si se llego al tiempo de la mitad o menor del valor esperado si es así verifico si ya fue arreglado y lo arreglo una vez\n",
    "        if t_x <= 0.5*TMF and not arreglado:\n",
    "            if 1.25*v0>100:\n",
    "                cos_3[n] = 100-v0\n",
    "                v0 = 100\n",
    "            else:\n",
    "                cos_3[n] = 1.25*v0-v0\n",
    "                v0=1.25*v0\n",
    "\n",
    "            arreglado = True\n",
    "        \n",
    "    res_3[n]=t_x\n",
    "\n",
    "TMF_3=res_3.mean()\n",
    "CMF_3=cos_3.mean()\n",
    "TMF_3\n"
   ]
  },
  {
   "cell_type": "code",
   "execution_count": 7,
   "id": "d7c68c16",
   "metadata": {},
   "outputs": [
    {
     "name": "stdout",
     "output_type": "stream",
     "text": [
      "cm1: 10.015558175720201\n",
      "cm2: 9.860980346056534\n",
      "cm3: 9.637494557096309\n"
     ]
    },
    {
     "data": {
      "text/plain": [
       "{'whiskers': [<matplotlib.lines.Line2D at 0x1b5bc820220>,\n",
       "  <matplotlib.lines.Line2D at 0x1b5bc8204f0>],\n",
       " 'caps': [<matplotlib.lines.Line2D at 0x1b5bc8207c0>,\n",
       "  <matplotlib.lines.Line2D at 0x1b5bc820a90>],\n",
       " 'boxes': [<matplotlib.lines.Line2D at 0x1b5bc811f10>],\n",
       " 'medians': [<matplotlib.lines.Line2D at 0x1b5bc820d60>],\n",
       " 'fliers': [<matplotlib.lines.Line2D at 0x1b5bc82e070>],\n",
       " 'means': []}"
      ]
     },
     "execution_count": 7,
     "metadata": {},
     "output_type": "execute_result"
    },
    {
     "data": {
      "image/png": "[encoded data removed]",
      "text/plain": [
       "<Figure size 432x288 with 1 Axes>"
      ]
     },
     "metadata": {
      "needs_background": "light"
     },
     "output_type": "display_data"
    }
   ],
   "source": [
    "print(\"cm1:\",CMF_1)\n",
    "print(\"cm2:\",CMF_2)\n",
    "print(\"cm3:\",CMF_3)\n",
    "plt.boxplot(cos_1)"
   ]
  },
  {
   "cell_type": "code",
   "execution_count": 8,
   "id": "c3393904",
   "metadata": {},
   "outputs": [
    {
     "data": {
      "text/plain": [
       "{'whiskers': [<matplotlib.lines.Line2D at 0x1b5bc8871c0>,\n",
       "  <matplotlib.lines.Line2D at 0x1b5bc887490>],\n",
       " 'caps': [<matplotlib.lines.Line2D at 0x1b5bc887760>,\n",
       "  <matplotlib.lines.Line2D at 0x1b5bc887a60>],\n",
       " 'boxes': [<matplotlib.lines.Line2D at 0x1b5bc878fd0>],\n",
       " 'medians': [<matplotlib.lines.Line2D at 0x1b5bc887d30>],\n",
       " 'fliers': [<matplotlib.lines.Line2D at 0x1b5bc896040>],\n",
       " 'means': []}"
      ]
     },
     "execution_count": 8,
     "metadata": {},
     "output_type": "execute_result"
    },
    {
     "data": {
      "image/png": "[encoded data removed]",
      "text/plain": [
       "<Figure size 432x288 with 1 Axes>"
      ]
     },
     "metadata": {
      "needs_background": "light"
     },
     "output_type": "display_data"
    }
   ],
   "source": [
    "plt.boxplot(cos_2)"
   ]
  },
  {
   "cell_type": "code",
   "execution_count": 9,
   "id": "5bf5512a",
   "metadata": {},
   "outputs": [
    {
     "data": {
      "text/plain": [
       "{'whiskers': [<matplotlib.lines.Line2D at 0x1b5bc8ea2e0>,\n",
       "  <matplotlib.lines.Line2D at 0x1b5bc8ea5b0>],\n",
       " 'caps': [<matplotlib.lines.Line2D at 0x1b5bc8ea880>,\n",
       "  <matplotlib.lines.Line2D at 0x1b5bc8eab50>],\n",
       " 'boxes': [<matplotlib.lines.Line2D at 0x1b5bc8dbfd0>],\n",
       " 'medians': [<matplotlib.lines.Line2D at 0x1b5bc8eae20>],\n",
       " 'fliers': [<matplotlib.lines.Line2D at 0x1b5bc8f9130>],\n",
       " 'means': []}"
      ]
     },
     "execution_count": 9,
     "metadata": {},
     "output_type": "execute_result"
    },
    {
     "data": {
      "image/png": "[encoded data removed]",
      "text/plain": [
       "<Figure size 432x288 with 1 Axes>"
      ]
     },
     "metadata": {
      "needs_background": "light"
     },
     "output_type": "display_data"
    }
   ],
   "source": [
    "plt.boxplot(cos_3)"
   ]
  },
  {
   "cell_type": "markdown",
   "id": "c3633ae5",
   "metadata": {},
   "source": [
    "Valor presente neto de los costos de reparación:"
   ]
  },
  {
   "cell_type": "code",
   "execution_count": 10,
   "id": "da491ab2",
   "metadata": {},
   "outputs": [],
   "source": [
    "tasa= 0.05\n",
    "Pv_1= cos_1.mean() * 1/((1+tasa)**(0.5*TMF))"
   ]
  },
  {
   "cell_type": "code",
   "execution_count": 11,
   "id": "3135db97",
   "metadata": {},
   "outputs": [],
   "source": [
    "Pv_2= cos_2.mean() * 1/((1+tasa)**(0.75*TMF))"
   ]
  },
  {
   "cell_type": "code",
   "execution_count": 12,
   "id": "a8b92a01",
   "metadata": {},
   "outputs": [],
   "source": [
    "Pv_3= cos_3.mean() * 1/((1+tasa)**(0.5*TMF))"
   ]
  },
  {
   "cell_type": "code",
   "execution_count": 13,
   "id": "7296b285",
   "metadata": {
    "scrolled": true
   },
   "outputs": [
    {
     "name": "stdout",
     "output_type": "stream",
     "text": [
      "1.3992423767601705\n",
      "10.015558175720201\n",
      "0.5149283233184387\n",
      "9.860980346056534\n",
      "1.346424288441113\n",
      "9.637494557096309\n"
     ]
    }
   ],
   "source": [
    "print(Pv_1)\n",
    "print(cos_1.mean())\n",
    "print(Pv_2)\n",
    "print(cos_2.mean())\n",
    "print(Pv_3)\n",
    "print(cos_3.mean())"
   ]
  },
  {
   "cell_type": "code",
   "execution_count": 14,
   "id": "ec60270f",
   "metadata": {},
   "outputs": [
    {
     "data": {
      "text/plain": [
       "0.015535845871171974"
      ]
     },
     "execution_count": 14,
     "metadata": {},
     "output_type": "execute_result"
    }
   ],
   "source": [
    "Pv_1/TMF_1"
   ]
  },
  {
   "cell_type": "code",
   "execution_count": 15,
   "id": "8717b667",
   "metadata": {},
   "outputs": [
    {
     "data": {
      "text/plain": [
       "0.005684095618196407"
      ]
     },
     "execution_count": 15,
     "metadata": {},
     "output_type": "execute_result"
    }
   ],
   "source": [
    "Pv_2/TMF_2"
   ]
  },
  {
   "cell_type": "code",
   "execution_count": 16,
   "id": "f266633a",
   "metadata": {},
   "outputs": [
    {
     "data": {
      "text/plain": [
       "0.015170782444340674"
      ]
     },
     "execution_count": 16,
     "metadata": {},
     "output_type": "execute_result"
    }
   ],
   "source": [
    "Pv_3/TMF_3"
   ]
  },
  {
   "cell_type": "markdown",
   "id": "7d38b60f",
   "metadata": {},
   "source": [
    "Suponiendo que cada periodo evaluado se aplica la tasa de descuento y teniendo en cuenta que siempre se realizan en el mismo instante se puede calcular el valor presente neto de la forma :$\\frac{F}{(1+\\gamma)^n}$ donde F es el valor en el tiempo n, y gamma es la tasa de descuento aplicada en cada periodo. El tiempo n es 0.5 TMF para el caso 1 y 3 mientras que para el caso 2 es de 0.75 TMF."
   ]
  },
  {
   "cell_type": "code",
   "execution_count": 17,
   "id": "3aaaecd5",
   "metadata": {},
   "outputs": [
    {
     "name": "stdout",
     "output_type": "stream",
     "text": [
      "El valor esperado del valor presente neto del costo de mantenimiento para la política I es de: 1.3992\n",
      "El valor esperado del valor presente neto del costo de mantenimiento para la política II es de: 0.5149\n",
      "El valor esperado del valor presente neto del costo de mantenimiento para la política III es de: 1.3464\n"
     ]
    }
   ],
   "source": [
    "print(\"El valor esperado del valor presente neto del costo de mantenimiento para la política I es de:\",round(Pv_1,4))\n",
    "print(\"El valor esperado del valor presente neto del costo de mantenimiento para la política II es de:\",round(Pv_2,4))\n",
    "print(\"El valor esperado del valor presente neto del costo de mantenimiento para la política III es de:\",round(Pv_3,4))"
   ]
  },
  {
   "cell_type": "markdown",
   "id": "4478685f",
   "metadata": {},
   "source": [
    "Se puede concluir a través de unicamente el costo que la mejor alternativa es la política II ya que es la obtiene un costo mucho menor (más de la mitad) frente a las dos alternativas que efectuan su mantenimiento en la mitad de la vida útil. Este costo es  más elevado para la política 1 ya que esta se interviene siempre más que en la 3. Lo anterior, se explica ya que en algunos casos se suele realizar el mantenimiento por debajo del valor inicial y este costo sería menor por lo mismo."
   ]
  },
  {
   "cell_type": "markdown",
   "id": "30c3e7da",
   "metadata": {},
   "source": [
    "Los valores esperados del valor presente neto por unidad de tiempo es el siguiente:"
   ]
  },
  {
   "cell_type": "code",
   "execution_count": 18,
   "id": "4ed68bad",
   "metadata": {},
   "outputs": [
    {
     "name": "stdout",
     "output_type": "stream",
     "text": [
      "El valor esperado del costo por unidad de tiempo para la política I es de: 0.0155\n",
      "El valor esperado del costo por unidad de tiempo para la política II es de: 0.0057\n",
      "El valor esperado del costo por unidad de tiempo para la política III es de: 0.0152\n"
     ]
    }
   ],
   "source": [
    "print(\"El valor esperado del costo por unidad de tiempo para la política I es de:\",round(Pv_1/TMF_1,4))\n",
    "print(\"El valor esperado del costo por unidad de tiempo para la política II es de:\",round(Pv_2/TMF_2,4))\n",
    "print(\"El valor esperado del costo por unidad de tiempo para la política III es de:\",round(Pv_3/TMF_3,4))"
   ]
  },
  {
   "cell_type": "markdown",
   "id": "3cf490a6",
   "metadata": {},
   "source": [
    "El valor esperado por costo de unidad de tiempo de la política II es mucho mejor debido a que su costo disminuye en un 50% y en este caso también es menos que la mitad de los otros dos valores. Se puede observar adicionalmente una leve diferencia dando como mejor alternativa, en términos de costos, la política III frente a la I."
   ]
  },
  {
   "cell_type": "code",
   "execution_count": 19,
   "id": "d539f103",
   "metadata": {},
   "outputs": [
    {
     "name": "stdout",
     "output_type": "stream",
     "text": [
      "El tiempo medio a la falla para la política I es de: 90.0654\n",
      "El tiempo medio a la falla para la política II es de: 90.5911\n",
      "El tiempo medio a la falla  para la política III es de: 88.7511\n"
     ]
    }
   ],
   "source": [
    "print(\"El tiempo medio a la falla para la política I es de:\",round(TMF_1,4))\n",
    "print(\"El tiempo medio a la falla para la política II es de:\",round(TMF_2,4))\n",
    "print(\"El tiempo medio a la falla  para la política III es de:\",round(TMF_3,4))"
   ]
  },
  {
   "cell_type": "code",
   "execution_count": 20,
   "id": "3731d09b",
   "metadata": {},
   "outputs": [
    {
     "data": {
      "text/plain": [
       "80.6806"
      ]
     },
     "execution_count": 20,
     "metadata": {},
     "output_type": "execute_result"
    }
   ],
   "source": [
    "#El tiempo medio a la falla sin política es de\n",
    "round(TMF,4)"
   ]
  },
  {
   "cell_type": "markdown",
   "id": "fce53a19",
   "metadata": {},
   "source": [
    "Suponiendo que los valores para la vida útil (TMF) sean significativos ya que se puede observar en las gráficas de cajas y bigotes para las políticas que hay varios outliners de coste en cero, lo que significa que el sistema falla antes de intervenirse.Se puede observar que en general intervenir el sistema alarga su vida útil apróximadamente 10 periodos, un poco más para la política uno y un poco menos para la II. Lo que nos puede indicar que la mejor política podría decidirse únicamente por su costo monetario en valor presente neto sabiendo que intervienen casi lo mismo (7% dif. max.). Por lo que, considero que la política de intervención del caso II es más eficiente con el dinero invertido frente al cambio de TMF. "
   ]
  },
  {
   "cell_type": "markdown",
   "id": "1c2e29aa",
   "metadata": {},
   "source": [
    "<h2><center>Análisis de Sistemas de Infraestructura <br>\n",
    "    Examen final: Parte II <br>\n",
    "    Punto 2 </center></h2>"
   ]
  },
  {
   "cell_type": "code",
   "execution_count": 21,
   "id": "8d56f246",
   "metadata": {},
   "outputs": [
    {
     "name": "stdout",
     "output_type": "stream",
     "text": [
      "10.25834485014184\n"
     ]
    }
   ],
   "source": [
    "lambd2=0.1\n",
    "c0=10**5\n",
    "b=0.275*c0\n",
    "cl=1.25*c0\n",
    "t_x2=0\n",
    "for i in range(10000):\n",
    "    t_x2+=np.random.exponential(1/lambd2)\n",
    "prom=t_x2/10000\n",
    "print(prom)"
   ]
  },
  {
   "cell_type": "code",
   "execution_count": 22,
   "id": "3bb8a625",
   "metadata": {
    "scrolled": true
   },
   "outputs": [
    {
     "name": "stdout",
     "output_type": "stream",
     "text": [
      "Tasa\tValor presente neto\n",
      "1 %\t 2525000.0\n",
      "5 %\t 325000.0\n",
      "10 %\t 50000.0\n",
      "15 %\t -41666.67\n",
      "25 %\t -114999.92\n"
     ]
    }
   ],
   "source": [
    "res2= np.array([1,5,10,15,25])\n",
    "print(\"Tasa\\tValor presente neto\")\n",
    "for i in range(5):\n",
    "    beneficios = b/(res2[i]/100)\n",
    "    Beneficio_sin_costo0=beneficios-c0-(cl/(1+(res2[i]/100)**(prom)))\n",
    "    print(res2[i],\"%\\t\",round(Beneficio_sin_costo0,2))"
   ]
  },
  {
   "cell_type": "code",
   "execution_count": 23,
   "id": "cd6a3476",
   "metadata": {},
   "outputs": [
    {
     "name": "stdout",
     "output_type": "stream",
     "text": [
      "20.143874556749036\n"
     ]
    }
   ],
   "source": [
    "lambd2=0.05\n",
    "c0=10**5\n",
    "b=0.275*c0\n",
    "cl=1.25*c0\n",
    "t_x2=0\n",
    "for i in range(10000):\n",
    "    t_x2+=np.random.exponential(1/lambd2)\n",
    "prom2=t_x2/10000\n",
    "print(prom2)"
   ]
  },
  {
   "cell_type": "code",
   "execution_count": 24,
   "id": "ac2227b0",
   "metadata": {},
   "outputs": [
    {
     "name": "stdout",
     "output_type": "stream",
     "text": [
      "5.123277984583872\n"
     ]
    }
   ],
   "source": [
    "lambd2=0.2\n",
    "c0=10**5\n",
    "b=0.275*c0\n",
    "cl=1.25*c0\n",
    "t_x2=0\n",
    "for i in range(10000):\n",
    "    t_x2+=np.random.exponential(1/lambd2)\n",
    "prom3=t_x2/10000\n",
    "print(prom3)"
   ]
  },
  {
   "cell_type": "code",
   "execution_count": 25,
   "id": "09ee3239",
   "metadata": {},
   "outputs": [
    {
     "name": "stdout",
     "output_type": "stream",
     "text": [
      "2.5078505507132567\n"
     ]
    }
   ],
   "source": [
    "lambd2=0.4\n",
    "c0=10**5\n",
    "b=0.275*c0\n",
    "cl=1.25*c0\n",
    "t_x2=0\n",
    "for i in range(10000):\n",
    "    t_x2+=np.random.exponential(1/lambd2)\n",
    "prom4=t_x2/10000\n",
    "print(prom4)"
   ]
  },
  {
   "cell_type": "code",
   "execution_count": 26,
   "id": "003a4377",
   "metadata": {},
   "outputs": [
    {
     "name": "stdout",
     "output_type": "stream",
     "text": [
      "Tasa\tlambda =0.1\tlambda=0.05\tlambda=0.2\tlambda=0.4\n",
      "1 %\t 2525000.0 \t 2525000.0 \t 2525000.0 \t 2525001.21\n",
      "5 %\t 325000.0 \t 325000.0 \t 325000.03 \t 325068.22\n",
      "10 %\t 50000.0 \t 50000.0 \t 50000.94 \t 50387.0\n",
      "15 %\t -41666.67 \t -41666.67 \t -41659.15 \t -40602.63\n",
      "25 %\t -114999.92 \t -115000.0 \t -114897.19 \t -111251.89\n"
     ]
    }
   ],
   "source": [
    "res2= np.array([1,5,10,15,25])\n",
    "print(\"Tasa\\tlambda =0.1\\tlambda=0.05\\tlambda=0.2\\tlambda=0.4\")\n",
    "for i in range(5):\n",
    "    beneficios = b/(res2[i]/100)\n",
    "    Beneficio_sin_costo0=beneficios-c0-(cl/(1+(res2[i]/100)**(prom)))\n",
    "    be2=beneficios-c0-(cl/(1+(res2[i]/100)**(prom2)))\n",
    "    be3=beneficios-c0-(cl/(1+(res2[i]/100)**(prom3)))\n",
    "    be4=beneficios-c0-(cl/(1+(res2[i]/100)**(prom4)))\n",
    "    print(res2[i],\"%\\t\",round(Beneficio_sin_costo0,2),\"\\t\",round(be2,2),\"\\t\",round(be3,2),\"\\t\",round(be4,2))"
   ]
  },
  {
   "cell_type": "markdown",
   "id": "c4a3a511",
   "metadata": {},
   "source": [
    "Los resultados son poco sensibles a cambios en lambda razonables"
   ]
  },
  {
   "cell_type": "markdown",
   "id": "a83d0d49",
   "metadata": {},
   "source": [
    "<h2><center>Análisis de Sistemas de Infraestructura <br>\n",
    "    Examen final: Parte III <br>\n",
    "    Punto 3 </center></h2>"
   ]
  },
  {
   "cell_type": "code",
   "execution_count": 27,
   "id": "20b63ea1",
   "metadata": {},
   "outputs": [
    {
     "data": {
      "text/plain": [
       "matrix([[0.5   , 0.3   , 0.1   , 0.075 , 0.025 ],\n",
       "        [0.    , 0.6   , 0.3   , 0.075 , 0.025 ],\n",
       "        [0.    , 0.    , 0.8   , 0.0175, 0.025 ],\n",
       "        [0.    , 0.    , 0.    , 0.975 , 0.025 ],\n",
       "        [0.    , 0.    , 0.    , 0.    , 1.    ]])"
      ]
     },
     "execution_count": 27,
     "metadata": {},
     "output_type": "execute_result"
    }
   ],
   "source": [
    "m1=[[0.4,0.3,0.2,0.075,0.025],[0.3,0.5,0.1,0.075,0.025],[0.2,0.1,0.6,0.075,0.025],[0.075,0.025,0.1,0.7,0.1],[0.025,0.075,0.1,0.3,0.5]]\n",
    "m2=[[0.5,0.3,0.1,0.075,0.025],[0,0.6,0.3,0.075,0.025],[0,0,0.8,0.0175,0.025],[0,0,0,0.975,0.025],[0,0,0,0,1]]\n",
    "m3=[[0.5,0.3,0.1,0.075,0.025],[0,0.6,0.3,0.075,0.025],[0,0,0.8,0.0175,0.025],[0,0,0,0.975,0.025],[1,0,0,0,0]]\n",
    "m1= np.matrix(m1)\n",
    "m2= np.matrix(m2)\n",
    "m3= np.matrix(m3)\n",
    "m2"
   ]
  },
  {
   "cell_type": "markdown",
   "id": "2363bba6",
   "metadata": {},
   "source": [
    "Para el sistema que solo puede permanecer en el estado actual o deterriorarse se selecciona la matriz dos (P2) ya que es la unica que tiene estas posibilidades en sus posiciones"
   ]
  },
  {
   "cell_type": "code",
   "execution_count": 28,
   "id": "5525a586",
   "metadata": {},
   "outputs": [
    {
     "data": {
      "text/plain": [
       "matrix([[0.03125   , 0.13953   , 0.33416   , 0.22988175, 0.11486025]])"
      ]
     },
     "execution_count": 28,
     "metadata": {},
     "output_type": "execute_result"
    }
   ],
   "source": [
    "#para dentro de 5 años\n",
    "np.matmul(np.array([1,0,0,0,0]),np.linalg.matrix_power(m2, 5))"
   ]
  },
  {
   "cell_type": "code",
   "execution_count": 29,
   "id": "7faedb66",
   "metadata": {},
   "outputs": [
    {
     "data": {
      "text/plain": [
       "matrix([[ 0.09,  1.52, 17.22, 25.43, 19.04]])"
      ]
     },
     "execution_count": 29,
     "metadata": {},
     "output_type": "execute_result"
    }
   ],
   "source": [
    "#para dentro de 10 años\n",
    "np.array([1,0,0,0,0])*m2**10*100//0.01/100"
   ]
  },
  {
   "cell_type": "code",
   "execution_count": 30,
   "id": "c45a616c",
   "metadata": {},
   "outputs": [
    {
     "data": {
      "text/plain": [
       "matrix([[ 0.  ,  0.  ,  0.69, 18.82, 29.84]])"
      ]
     },
     "execution_count": 30,
     "metadata": {},
     "output_type": "execute_result"
    }
   ],
   "source": [
    "#para dentro de 25 años\n",
    "np.array([1,0,0,0,0])*m2**25*100//0.01/100"
   ]
  },
  {
   "cell_type": "code",
   "execution_count": 31,
   "id": "17cbc352",
   "metadata": {},
   "outputs": [
    {
     "data": {
      "text/plain": [
       "matrix([[ 0.  ,  0.  ,  0.  , 10.03, 38.77]])"
      ]
     },
     "execution_count": 31,
     "metadata": {},
     "output_type": "execute_result"
    }
   ],
   "source": [
    "#para dentro de 50 años\n",
    "np.array([1,0,0,0,0])*m2**50*100//0.01/100"
   ]
  },
  {
   "cell_type": "markdown",
   "id": "88c1ac9e",
   "metadata": {},
   "source": [
    "La probabilidad para cada uno de estos vectores calculados indican la posibilidad de estar respectivamente en el estado 5, 4, 3, 2 o 1 según la posición de la fila. Por ejemplo, para el caso dentro de 5 años se obtiene una posibilidad de 3.12% de permanecer en el estado 5 después de 5 años."
   ]
  },
  {
   "cell_type": "code",
   "execution_count": 32,
   "id": "4575a786",
   "metadata": {},
   "outputs": [
    {
     "data": {
      "text/plain": [
       "array([0.        , 0.1       , 0.17      , 0.219     , 0.2533    ,\n",
       "       0.27731   , 0.294117  , 0.3058819 , 0.31411733, 0.31988213,\n",
       "       0.32391749, 0.32674224, 0.32871957, 0.3301037 , 0.33107259,\n",
       "       0.33175081, 0.33222557, 0.3325579 , 0.33279053, 0.33295337,\n",
       "       0.33306736, 0.33314715, 0.33320301, 0.3332421 , 0.33326947,\n",
       "       0.33328863, 0.33330204, 0.33331143, 0.333318  , 0.3333226 ,\n",
       "       0.33332582, 0.33332807, 0.33332965, 0.33333076, 0.33333153,\n",
       "       0.33333207, 0.33333245, 0.33333271, 0.3333329 , 0.33333303,\n",
       "       0.33333312, 0.33333318, 0.33333323, 0.33333326, 0.33333328,\n",
       "       0.3333333 , 0.33333331, 0.33333332, 0.33333332, 0.33333332])"
      ]
     },
     "execution_count": 32,
     "metadata": {},
     "output_type": "execute_result"
    }
   ],
   "source": [
    "prob_falla=np.zeros(50)\n",
    "p0=np.array([1,0,0,0,0])\n",
    "tiempo=0\n",
    "m1_array = pd.DataFrame(m1)\n",
    "while tiempo<50:\n",
    "    prob_falla[tiempo]=np.matmul(p0,np.linalg.matrix_power(m1_array.to_numpy(), tiempo))[4]+np.matmul(p0,np.linalg.matrix_power(m1_array.to_numpy(), tiempo))[3]\n",
    "    tiempo+=1\n",
    "prob_falla"
   ]
  },
  {
   "cell_type": "code",
   "execution_count": 33,
   "id": "897179f2",
   "metadata": {},
   "outputs": [
    {
     "data": {
      "text/plain": [
       "Text(0, 0.5, 'Probabilidad de falla')"
      ]
     },
     "execution_count": 33,
     "metadata": {},
     "output_type": "execute_result"
    },
    {
     "data": {
      "image/png": "[encoded data removed]",
      "text/plain": [
       "<Figure size 432x288 with 1 Axes>"
      ]
     },
     "metadata": {
      "needs_background": "light"
     },
     "output_type": "display_data"
    }
   ],
   "source": [
    "plt.plot(np.arange(1,51),prob_falla)\n",
    "plt.xlabel(\"Tiempo\") # Establecer el título del eje x\n",
    "plt.ylabel(\"Probabilidad de falla\") # Establecer el título del eje y"
   ]
  },
  {
   "cell_type": "code",
   "execution_count": 34,
   "id": "b8043909",
   "metadata": {},
   "outputs": [
    {
     "data": {
      "text/plain": [
       "array([0.        , 0.1       , 0.18425   , 0.2516    , 0.30415   ,\n",
       "       0.344742  , 0.3760218 , 0.40016686, 0.41887439, 0.43343468,\n",
       "       0.44481915, 0.45375833, 0.46080354, 0.4663735 , 0.47078847,\n",
       "       0.47429521, 0.47708515, 0.47930767, 0.48107994, 0.48249428,\n",
       "       0.48362364, 0.48452585, 0.48524685, 0.48582318, 0.48628397,\n",
       "       0.48665243, 0.4869471 , 0.48718277, 0.48737127, 0.48752205,\n",
       "       0.48764266, 0.48773914, 0.48781632, 0.48787806, 0.48792745,\n",
       "       0.48796696, 0.48799857, 0.48802386, 0.48804409, 0.48806027,\n",
       "       0.48807322, 0.48808357, 0.48809186, 0.48809849, 0.48810379,\n",
       "       0.48810803, 0.48811142, 0.48811414, 0.48811631, 0.48811805])"
      ]
     },
     "execution_count": 34,
     "metadata": {},
     "output_type": "execute_result"
    }
   ],
   "source": [
    "prob_falla=np.zeros(50)\n",
    "p0=np.array([1,0,0,0,0])\n",
    "tiempo=0\n",
    "m2_array = pd.DataFrame(m2)\n",
    "while tiempo<50:\n",
    "    prob_falla[tiempo]=np.matmul(p0,np.linalg.matrix_power(m2_array.to_numpy(), tiempo))[4]+np.matmul(p0,np.linalg.matrix_power(m2_array.to_numpy(), tiempo))[3]\n",
    "    tiempo+=1\n",
    "prob_falla"
   ]
  },
  {
   "cell_type": "code",
   "execution_count": 35,
   "id": "b921b59e",
   "metadata": {},
   "outputs": [
    {
     "data": {
      "text/plain": [
       "Text(0, 0.5, 'Probabilidad de falla')"
      ]
     },
     "execution_count": 35,
     "metadata": {},
     "output_type": "execute_result"
    },
    {
     "data": {
      "image/png": "[encoded data removed]",
      "text/plain": [
       "<Figure size 432x288 with 1 Axes>"
      ]
     },
     "metadata": {
      "needs_background": "light"
     },
     "output_type": "display_data"
    }
   ],
   "source": [
    "plt.plot(np.arange(1,51),prob_falla)\n",
    "plt.xlabel(\"Tiempo\") # Establecer el título del eje x\n",
    "plt.ylabel(\"Probabilidad de falla\") # Establecer el título del eje y"
   ]
  },
  {
   "cell_type": "code",
   "execution_count": 46,
   "id": "2dacb331",
   "metadata": {},
   "outputs": [
    {
     "data": {
      "text/plain": [
       "array([0.        , 0.1       , 0.15925   , 0.204725  , 0.23782187,\n",
       "       0.26141083, 0.27801137, 0.28956323, 0.29746907, 0.30271497,\n",
       "       0.30598859, 0.30777229, 0.3084097 , 0.30815105, 0.30718309,\n",
       "       0.30564863, 0.30365931, 0.30130406, 0.29865468, 0.29576983,\n",
       "       0.29269778, 0.28947843, 0.28614492, 0.28272477, 0.27924091,\n",
       "       0.2757124 , 0.27215513, 0.26858227, 0.26500477, 0.2614317 ,\n",
       "       0.25787055, 0.25432749, 0.25080759, 0.24731499, 0.24385305,\n",
       "       0.24042449, 0.23703147, 0.2336757 , 0.23035851, 0.22708093,\n",
       "       0.22384368, 0.22064731, 0.21749214, 0.21437837, 0.21130605,\n",
       "       0.20827513, 0.20528549, 0.20233691, 0.19942912, 0.19656182])"
      ]
     },
     "execution_count": 46,
     "metadata": {},
     "output_type": "execute_result"
    }
   ],
   "source": [
    "prob_falla=np.zeros(50)\n",
    "p0=np.array([1,0,0,0,0])\n",
    "tiempo=0\n",
    "m3_array = pd.DataFrame(m3)\n",
    "while tiempo<50:\n",
    "    prob_falla[tiempo]=np.matmul(p0,np.linalg.matrix_power(m3_array.to_numpy(), tiempo))[4]+np.matmul(p0,np.linalg.matrix_power(m3_array.to_numpy(), tiempo))[3]\n",
    "    tiempo+=1\n",
    "prob_falla"
   ]
  },
  {
   "cell_type": "code",
   "execution_count": 47,
   "id": "febc75a2",
   "metadata": {},
   "outputs": [
    {
     "data": {
      "text/plain": [
       "Text(0, 0.5, 'Probabilidad de falla')"
      ]
     },
     "execution_count": 47,
     "metadata": {},
     "output_type": "execute_result"
    },
    {
     "data": {
      "image/png": "[encoded data removed]",
      "text/plain": [
       "<Figure size 432x288 with 1 Axes>"
      ]
     },
     "metadata": {
      "needs_background": "light"
     },
     "output_type": "display_data"
    }
   ],
   "source": [
    "plt.plot(np.arange(1,51),prob_falla)\n",
    "plt.xlabel(\"Tiempo\") # Establecer el título del eje x\n",
    "plt.ylabel(\"Probabilidad de falla\") # Establecer el título del eje y"
   ]
  },
  {
   "cell_type": "markdown",
   "id": "e36698c2",
   "metadata": {},
   "source": [
    "La principal diferencia se encuentra en la matriz uno ya que esta es la que presenta recuperación en cualquier estado y se estabiliza cercano a valores de 33%. Mientras que, para la matriz dos que no tiene recuperación el valor se estabiliza cercano al 50%. por último, para la matriz 3 tiene un cambio repentido frente a la tendencia de incrementar y después tiende a disminuir esta probabilidad."
   ]
  }
 ],
 "metadata": {
  "kernelspec": {
   "display_name": "Python 3 (ipykernel)",
   "language": "python",
   "name": "python3"
  },
  "language_info": {
   "codemirror_mode": {
    "name": "ipython",
    "version": 3
   },
   "file_extension": ".py",
   "mimetype": "text/x-python",
   "name": "python",
   "nbconvert_exporter": "python",
   "pygments_lexer": "ipython3",
   "version": "3.8.12"
  }
 },
 "nbformat": 4,
 "nbformat_minor": 5
}
